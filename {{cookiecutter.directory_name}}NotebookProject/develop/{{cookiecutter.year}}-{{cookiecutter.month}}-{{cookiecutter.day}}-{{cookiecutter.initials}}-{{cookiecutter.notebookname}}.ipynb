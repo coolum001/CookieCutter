{
 "cells": [
  {
   "cell_type": "markdown",
   "metadata": {},
   "source": [
    "# Jupyter Notebook Title\n",
    "------------"
   ]
  },
  {
   "cell_type": "markdown",
   "metadata": {},
   "source": [
    "## Introduction"
   ]
  },
  {
   "cell_type": "markdown",
   "metadata": {},
   "source": [
    "### Overview"
   ]
  },
  {
   "cell_type": "markdown",
   "metadata": {},
   "source": [
    "Overview of the notebook contents"
   ]
  },
  {
   "cell_type": "markdown",
   "metadata": {},
   "source": [
    "## Notebook Summary Details\n",
    "Description of contents:\n",
    "\n",
    "{{cookiecutter.short_description}}\n",
    "\n",
    "Author: {{cookiecutter.full_name}}\n",
    "\n",
    "Contact: {{cookiecutter.email}}, {{cookiecutter.phone}}"
   ]
  },
  {
   "cell_type": "markdown",
   "metadata": {},
   "source": [
    "--------------\n",
    "## Implementation"
   ]
  },
  {
   "cell_type": "markdown",
   "metadata": {},
   "source": [
    "### Notebook magic commands"
   ]
  },
  {
   "cell_type": "code",
   "execution_count": 1,
   "metadata": {
    "collapsed": true
   },
   "outputs": [],
   "source": [
    "%matplotlib inline"
   ]
  },
  {
   "cell_type": "code",
   "execution_count": 13,
   "metadata": {},
   "outputs": [],
   "source": [
    "%load_ext watermark"
   ]
  },
  {
   "cell_type": "code",
   "execution_count": 18,
   "metadata": {},
   "outputs": [],
   "source": [
    "%load_ext lab_black"
   ]
  },
  {
   "cell_type": "markdown",
   "metadata": {},
   "source": [
    "### Notebook imports"
   ]
  },
  {
   "cell_type": "code",
   "execution_count": 19,
   "metadata": {
    "collapsed": true
   },
   "outputs": [],
   "source": [
    "# all imports should go here\n",
    "\n",
    "import pandas as pd\n",
    "import sys\n",
    "import os\n",
    "import subprocess\n",
    "import datetime\n",
    "import platform\n",
    "import datetime\n",
    "\n",
    "import seaborn as sns\n",
    "\n",
    "import matplotlib.pyplot as plt"
   ]
  },
  {
   "cell_type": "markdown",
   "metadata": {},
   "source": [
    "### Customizations for notebook"
   ]
  },
  {
   "cell_type": "code",
   "execution_count": 20,
   "metadata": {
    "collapsed": true
   },
   "outputs": [],
   "source": [
    "# path to saved figures\n",
    "FIGURE_PREFIX = '../figures/'"
   ]
  },
  {
   "cell_type": "markdown",
   "metadata": {},
   "source": [
    "### Required notebooks to be run first"
   ]
  },
  {
   "cell_type": "code",
   "execution_count": 21,
   "metadata": {
    "collapsed": false
   },
   "outputs": [
    {
     "data": {
      "text/html": [
       "<a href='../develop/a.ipynb' target='_blank'>../develop/a.ipynb</a><br>"
      ],
      "text/plain": [
       "C:\\Users\\donrc\\Documents\\JupyterNotebooks\\CookieCutter\\{{cookiecutter.directory_name}}NotebookProject\\develop\\a.ipynb"
      ]
     },
     "execution_count": 21,
     "metadata": {},
     "output_type": "execute_result"
    }
   ],
   "source": [
    "from IPython.display import FileLink\n",
    "\n",
    "FileLink('../develop/a.ipynb')"
   ]
  },
  {
   "cell_type": "markdown",
   "metadata": {},
   "source": [
    "### Display associated webpages (eg source of data)"
   ]
  },
  {
   "cell_type": "code",
   "execution_count": 22,
   "metadata": {
    "collapsed": false
   },
   "outputs": [
    {
     "data": {
      "text/html": [
       "\n",
       "        <iframe\n",
       "            width=\"800\"\n",
       "            height=\"200\"\n",
       "            src=\"http://www.net-analysis.com\"\n",
       "            frameborder=\"0\"\n",
       "            allowfullscreen\n",
       "        ></iframe>\n",
       "        "
      ],
      "text/plain": [
       "<IPython.lib.display.IFrame at 0x1af6d8d2198>"
      ]
     },
     "execution_count": 22,
     "metadata": {},
     "output_type": "execute_result"
    }
   ],
   "source": [
    "from IPython.display import IFrame\n",
    "\n",
    "IFrame(\"http://www.net-analysis.com\", width=800, height=200)"
   ]
  },
  {
   "cell_type": "markdown",
   "metadata": {},
   "source": [
    "### Supporting Functions"
   ]
  },
  {
   "cell_type": "markdown",
   "metadata": {},
   "source": [
    "#### Save figures to figures directory"
   ]
  },
  {
   "cell_type": "code",
   "execution_count": 23,
   "metadata": {
    "collapsed": false
   },
   "outputs": [
    {
     "name": "stdout",
     "output_type": "stream",
     "text": [
      "../figures/Test20190921-180602.jpg saved.\n"
     ]
    },
    {
     "data": {
      "image/png": "[encoded data removed]",
      "text/plain": [
       "<Figure size 432x288 with 1 Axes>"
      ]
     },
     "metadata": {
      "needs_background": "light"
     },
     "output_type": "display_data"
    }
   ],
   "source": [
    "def save_figure(\n",
    "    figure_title='TemplateNotebookFigure',\n",
    "    figure_prefix='../figures/',\n",
    "):\n",
    "    \"\"\"\n",
    "     save_figure:  same the current matplotlib.pyplot figure as a jpg file\n",
    "\n",
    "     a file is generated from the supplied title, and the date and time\n",
    "\n",
    "     Inputs:\n",
    "     figure_title: string, incorporated into file name\n",
    "     figure_prefix: string giving relative (or absolute) path the save location\n",
    "     Returns:\n",
    "     True is save OK\n",
    "     False otherwise\n",
    "\n",
    "     Outputs:\n",
    "     prints error messages on exceptions\n",
    "\n",
    "    \"\"\"\n",
    "\n",
    "    try:\n",
    "        fname = (\n",
    "            figure_prefix\n",
    "            + figure_title\n",
    "            + datetime.datetime.now().strftime(\n",
    "                \"%Y%m%d-%H%M%S\"\n",
    "            )\n",
    "            + '.jpg'\n",
    "        )\n",
    "        plt.savefig(fname)\n",
    "        print(fname + ' saved.')\n",
    "    except IOError as err:\n",
    "        print('Unable to save figure - IO Error!')\n",
    "        print(\"IO error: {0}\".format(err))\n",
    "    except OSError as err:\n",
    "        print('Unable to save figure - OS Error!')\n",
    "        print(\"OS error: {0}\".format(err))\n",
    "    except:\n",
    "        print('Unable to save figure - Unexpected Error!')\n",
    "        print(\"Unexpected error:\", sys.exc_info()[0])\n",
    "        raise\n",
    "    # end try\n",
    "\n",
    "\n",
    "# end save_figure\n",
    "\n",
    "x = [1, 2, 3, 4, 5, 6]\n",
    "y = [2, 4, 5, 2, 5, 9]\n",
    "plot2 = sns.barplot(x=x, y=y)\n",
    "\n",
    "save_figure(\n",
    "    figure_title='Test', figure_prefix=FIGURE_PREFIX\n",
    ")\n",
    "\n",
    "plt.show()"
   ]
  },
  {
   "cell_type": "markdown",
   "metadata": {},
   "source": [
    "### Display images"
   ]
  },
  {
   "cell_type": "code",
   "execution_count": 24,
   "metadata": {
    "collapsed": false
   },
   "outputs": [
    {
     "data": {
      "image/jpeg": "[encoded data removed]",
      "text/plain": [
       "<IPython.core.display.Image object>"
      ]
     },
     "execution_count": 24,
     "metadata": {
      "image/jpeg": {
       "height": 100,
       "width": 200
      }
     },
     "output_type": "execute_result"
    }
   ],
   "source": [
    "from IPython.display import Image\n",
    "\n",
    "Image(\n",
    "    filename='../figures/Test20190921-175814.jpg',\n",
    "    height=100,\n",
    "    width=200,\n",
    ")"
   ]
  },
  {
   "cell_type": "markdown",
   "metadata": {},
   "source": [
    "----------------------\n",
    "## Topic One"
   ]
  },
  {
   "cell_type": "markdown",
   "metadata": {},
   "source": [
    "Topic one details"
   ]
  },
  {
   "cell_type": "markdown",
   "metadata": {},
   "source": [
    "## Topic Two"
   ]
  },
  {
   "cell_type": "markdown",
   "metadata": {},
   "source": [
    "Topic two details"
   ]
  },
  {
   "cell_type": "markdown",
   "metadata": {},
   "source": [
    "## Conclusions / Summary"
   ]
  },
  {
   "cell_type": "markdown",
   "metadata": {},
   "source": [
    "Conclusions and Summary of results"
   ]
  },
  {
   "cell_type": "markdown",
   "metadata": {},
   "source": [
    "-------------------\n",
    "## Reproducibility"
   ]
  },
  {
   "cell_type": "markdown",
   "metadata": {},
   "source": [
    "### Notebook version status"
   ]
  },
  {
   "cell_type": "code",
   "execution_count": 25,
   "metadata": {},
   "outputs": [],
   "source": [
    "theNotebook = 'Notebook Name'"
   ]
  },
  {
   "cell_type": "code",
   "execution_count": 26,
   "metadata": {
    "collapsed": false
   },
   "outputs": [
    {
     "name": "stdout",
     "output_type": "stream",
     "text": [
      "python version : 3.7.1 (default, Dec 10 2018, 22:54:23) [MSC v.1915 64 bit (AMD64)]\n",
      "python environment : ac5-py37\n",
      "pandas version : 0.23.4\n",
      "current wkg dir: C:\\Users\\donrc\\Documents\\JupyterNotebooks\\CookieCutter\\{{cookiecutter.directory_name}}NotebookProject\\develop\n",
      "Notebook name: Notebook Name\n",
      "Notebook run at: 2019-09-21 18:06:14.852206 local time\n",
      "Notebook run at: 2019-09-21 08:06:14.852206 UTC\n",
      "Notebook run on: Windows-10-10.0.18362-SP0\n"
     ]
    }
   ],
   "source": [
    "# show info to support reproducibility\n",
    "\n",
    "\n",
    "def python_env_name():\n",
    "    envs = subprocess.check_output(\n",
    "        'conda env list'\n",
    "    ).splitlines()\n",
    "    # get unicode version of binary subprocess output\n",
    "    envu = [x.decode('ascii') for x in envs]\n",
    "    active_env = list(\n",
    "        filter(lambda s: '*' in str(s), envu)\n",
    "    )[0]\n",
    "    env_name = str(active_env).split()[0]\n",
    "    return env_name\n",
    "\n",
    "\n",
    "# end python_env_name\n",
    "\n",
    "print('python version : ' + sys.version)\n",
    "print('python environment :', python_env_name())\n",
    "print('pandas version : ' + pd.__version__)\n",
    "\n",
    "print('current wkg dir: ' + os.getcwd())\n",
    "print('Notebook name: ' + theNotebook)\n",
    "print(\n",
    "    'Notebook run at: '\n",
    "    + str(datetime.datetime.now())\n",
    "    + ' local time'\n",
    ")\n",
    "print(\n",
    "    'Notebook run at: '\n",
    "    + str(datetime.datetime.utcnow())\n",
    "    + ' UTC'\n",
    ")\n",
    "print('Notebook run on: ' + platform.platform())"
   ]
  },
  {
   "cell_type": "code",
   "execution_count": 27,
   "metadata": {},
   "outputs": [
    {
     "name": "stdout",
     "output_type": "stream",
     "text": [
      "2019-09-21T18:06:23+10:00\n",
      "\n",
      "CPython 3.7.1\n",
      "IPython 7.2.0\n",
      "\n",
      "compiler   : MSC v.1915 64 bit (AMD64)\n",
      "system     : Windows\n",
      "release    : 10\n",
      "machine    : AMD64\n",
      "processor  : Intel64 Family 6 Model 94 Stepping 3, GenuineIntel\n",
      "CPU cores  : 8\n",
      "interpreter: 64bit\n"
     ]
    }
   ],
   "source": [
    "%watermark"
   ]
  },
  {
   "cell_type": "code",
   "execution_count": 28,
   "metadata": {},
   "outputs": [
    {
     "name": "stdout",
     "output_type": "stream",
     "text": [
      "seaborn    0.9.0\n",
      "matplotlib 3.0.2\n",
      "platform   1.0.8\n",
      "pandas     0.23.4\n",
      "host name: DESKTOP-SODFUN6\n"
     ]
    }
   ],
   "source": [
    "%watermark -h -iv"
   ]
  },
  {
   "cell_type": "code",
   "execution_count": null,
   "metadata": {},
   "outputs": [],
   "source": []
  }
 ],
 "metadata": {
  "anaconda-cloud": {},
  "kernelspec": {
   "display_name": "Python 3",
   "language": "python",
   "name": "python3"
  },
  "language_info": {
   "codemirror_mode": {
    "name": "ipython",
    "version": 3
   },
   "file_extension": ".py",
   "mimetype": "text/x-python",
   "name": "python",
   "nbconvert_exporter": "python",
   "pygments_lexer": "ipython3",
   "version": "3.7.1"
  }
 },
 "nbformat": 4,
 "nbformat_minor": 2
}
